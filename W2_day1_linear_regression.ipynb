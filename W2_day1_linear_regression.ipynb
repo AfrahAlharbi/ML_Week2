{
  "nbformat": 4,
  "nbformat_minor": 0,
  "metadata": {
    "colab": {
      "name": "W2_day1_linear_regression",
      "provenance": [],
      "collapsed_sections": [],
      "include_colab_link": true
    },
    "kernelspec": {
      "name": "python3",
      "display_name": "Python 3"
    }
  },
  "cells": [
    {
      "cell_type": "markdown",
      "metadata": {
        "id": "view-in-github",
        "colab_type": "text"
      },
      "source": [
        "<a href=\"https://colab.research.google.com/github/AfrahAlharbi/ML_Week2/blob/main/W2_day1_linear_regression.ipynb\" target=\"_parent\"><img src=\"https://colab.research.google.com/assets/colab-badge.svg\" alt=\"Open In Colab\"/></a>"
      ]
    },
    {
      "cell_type": "markdown",
      "metadata": {
        "id": "93NOZbbEHw0X"
      },
      "source": [
        "# Linear Regression Assignment\r\n",
        "\r\n",
        "Note: target variable is `total_amount`.\r\n",
        "\r\n",
        "\r\n",
        "1. Load in a sample of the NYC taxi dataset through this parquet link: `https://github.com/gumdropsteve/datasets/raw/master/nyc_taxi/yellow_tripdata_2019-12.parquet`"
      ]
    },
    {
      "cell_type": "code",
      "metadata": {
        "id": "5QYjsm9EHwTt",
        "colab": {
          "base_uri": "https://localhost:8080/",
          "height": 439
        },
        "outputId": "21de6944-a952-4fb7-bcf7-fc69c38f3c88"
      },
      "source": [
        "import pandas as pd\r\n",
        "import seaborn as sns\r\n",
        "import matplotlib.pyplot as plt\r\n",
        "\r\n",
        "\r\n",
        "df = pd.read_parquet(\"https://github.com/gumdropsteve/datasets/raw/master/nyc_taxi/yellow_tripdata_2019-12.parquet\")\r\n",
        "df"
      ],
      "execution_count": null,
      "outputs": [
        {
          "output_type": "execute_result",
          "data": {
            "text/html": [
              "<div>\n",
              "<style scoped>\n",
              "    .dataframe tbody tr th:only-of-type {\n",
              "        vertical-align: middle;\n",
              "    }\n",
              "\n",
              "    .dataframe tbody tr th {\n",
              "        vertical-align: top;\n",
              "    }\n",
              "\n",
              "    .dataframe thead th {\n",
              "        text-align: right;\n",
              "    }\n",
              "</style>\n",
              "<table border=\"1\" class=\"dataframe\">\n",
              "  <thead>\n",
              "    <tr style=\"text-align: right;\">\n",
              "      <th></th>\n",
              "      <th>VendorID</th>\n",
              "      <th>tpep_pickup_datetime</th>\n",
              "      <th>tpep_dropoff_datetime</th>\n",
              "      <th>passenger_count</th>\n",
              "      <th>trip_distance</th>\n",
              "      <th>RatecodeID</th>\n",
              "      <th>store_and_fwd_flag</th>\n",
              "      <th>PULocationID</th>\n",
              "      <th>DOLocationID</th>\n",
              "      <th>payment_type</th>\n",
              "      <th>fare_amount</th>\n",
              "      <th>extra</th>\n",
              "      <th>mta_tax</th>\n",
              "      <th>tip_amount</th>\n",
              "      <th>tolls_amount</th>\n",
              "      <th>improvement_surcharge</th>\n",
              "      <th>total_amount</th>\n",
              "      <th>congestion_surcharge</th>\n",
              "    </tr>\n",
              "  </thead>\n",
              "  <tbody>\n",
              "    <tr>\n",
              "      <th>0</th>\n",
              "      <td>1.0</td>\n",
              "      <td>2019-12-21 07:55:21</td>\n",
              "      <td>2019-12-21 08:00:18</td>\n",
              "      <td>1.0</td>\n",
              "      <td>1.20</td>\n",
              "      <td>1.0</td>\n",
              "      <td>N</td>\n",
              "      <td>148</td>\n",
              "      <td>4</td>\n",
              "      <td>2.0</td>\n",
              "      <td>6.5</td>\n",
              "      <td>2.5</td>\n",
              "      <td>0.5</td>\n",
              "      <td>0.00</td>\n",
              "      <td>0.0</td>\n",
              "      <td>0.3</td>\n",
              "      <td>9.80</td>\n",
              "      <td>2.5</td>\n",
              "    </tr>\n",
              "    <tr>\n",
              "      <th>1</th>\n",
              "      <td>1.0</td>\n",
              "      <td>2019-12-08 13:20:45</td>\n",
              "      <td>2019-12-08 13:28:32</td>\n",
              "      <td>1.0</td>\n",
              "      <td>1.10</td>\n",
              "      <td>1.0</td>\n",
              "      <td>N</td>\n",
              "      <td>113</td>\n",
              "      <td>90</td>\n",
              "      <td>1.0</td>\n",
              "      <td>7.0</td>\n",
              "      <td>2.5</td>\n",
              "      <td>0.5</td>\n",
              "      <td>3.00</td>\n",
              "      <td>0.0</td>\n",
              "      <td>0.3</td>\n",
              "      <td>13.30</td>\n",
              "      <td>2.5</td>\n",
              "    </tr>\n",
              "    <tr>\n",
              "      <th>2</th>\n",
              "      <td>2.0</td>\n",
              "      <td>2019-12-28 14:41:40</td>\n",
              "      <td>2019-12-28 14:52:29</td>\n",
              "      <td>1.0</td>\n",
              "      <td>1.12</td>\n",
              "      <td>1.0</td>\n",
              "      <td>N</td>\n",
              "      <td>186</td>\n",
              "      <td>137</td>\n",
              "      <td>2.0</td>\n",
              "      <td>8.0</td>\n",
              "      <td>0.0</td>\n",
              "      <td>0.5</td>\n",
              "      <td>0.00</td>\n",
              "      <td>0.0</td>\n",
              "      <td>0.3</td>\n",
              "      <td>11.30</td>\n",
              "      <td>2.5</td>\n",
              "    </tr>\n",
              "    <tr>\n",
              "      <th>3</th>\n",
              "      <td>2.0</td>\n",
              "      <td>2019-12-05 23:42:35</td>\n",
              "      <td>2019-12-05 23:59:18</td>\n",
              "      <td>2.0</td>\n",
              "      <td>3.80</td>\n",
              "      <td>1.0</td>\n",
              "      <td>N</td>\n",
              "      <td>230</td>\n",
              "      <td>263</td>\n",
              "      <td>1.0</td>\n",
              "      <td>14.5</td>\n",
              "      <td>0.5</td>\n",
              "      <td>0.5</td>\n",
              "      <td>3.66</td>\n",
              "      <td>0.0</td>\n",
              "      <td>0.3</td>\n",
              "      <td>21.96</td>\n",
              "      <td>2.5</td>\n",
              "    </tr>\n",
              "    <tr>\n",
              "      <th>4</th>\n",
              "      <td>1.0</td>\n",
              "      <td>2019-12-13 12:30:25</td>\n",
              "      <td>2019-12-13 12:45:04</td>\n",
              "      <td>2.0</td>\n",
              "      <td>2.10</td>\n",
              "      <td>1.0</td>\n",
              "      <td>N</td>\n",
              "      <td>162</td>\n",
              "      <td>239</td>\n",
              "      <td>1.0</td>\n",
              "      <td>11.5</td>\n",
              "      <td>2.5</td>\n",
              "      <td>0.5</td>\n",
              "      <td>3.00</td>\n",
              "      <td>0.0</td>\n",
              "      <td>0.3</td>\n",
              "      <td>17.80</td>\n",
              "      <td>2.5</td>\n",
              "    </tr>\n",
              "    <tr>\n",
              "      <th>...</th>\n",
              "      <td>...</td>\n",
              "      <td>...</td>\n",
              "      <td>...</td>\n",
              "      <td>...</td>\n",
              "      <td>...</td>\n",
              "      <td>...</td>\n",
              "      <td>...</td>\n",
              "      <td>...</td>\n",
              "      <td>...</td>\n",
              "      <td>...</td>\n",
              "      <td>...</td>\n",
              "      <td>...</td>\n",
              "      <td>...</td>\n",
              "      <td>...</td>\n",
              "      <td>...</td>\n",
              "      <td>...</td>\n",
              "      <td>...</td>\n",
              "      <td>...</td>\n",
              "    </tr>\n",
              "    <tr>\n",
              "      <th>482737</th>\n",
              "      <td>1.0</td>\n",
              "      <td>2019-12-12 15:22:02</td>\n",
              "      <td>2019-12-12 15:25:26</td>\n",
              "      <td>1.0</td>\n",
              "      <td>0.20</td>\n",
              "      <td>1.0</td>\n",
              "      <td>N</td>\n",
              "      <td>140</td>\n",
              "      <td>140</td>\n",
              "      <td>1.0</td>\n",
              "      <td>4.0</td>\n",
              "      <td>0.0</td>\n",
              "      <td>0.5</td>\n",
              "      <td>0.95</td>\n",
              "      <td>0.0</td>\n",
              "      <td>0.3</td>\n",
              "      <td>5.75</td>\n",
              "      <td>0.0</td>\n",
              "    </tr>\n",
              "    <tr>\n",
              "      <th>482738</th>\n",
              "      <td>1.0</td>\n",
              "      <td>2019-12-28 18:36:46</td>\n",
              "      <td>2019-12-28 18:44:33</td>\n",
              "      <td>1.0</td>\n",
              "      <td>1.80</td>\n",
              "      <td>1.0</td>\n",
              "      <td>N</td>\n",
              "      <td>263</td>\n",
              "      <td>75</td>\n",
              "      <td>2.0</td>\n",
              "      <td>8.0</td>\n",
              "      <td>2.5</td>\n",
              "      <td>0.5</td>\n",
              "      <td>0.00</td>\n",
              "      <td>0.0</td>\n",
              "      <td>0.3</td>\n",
              "      <td>11.30</td>\n",
              "      <td>2.5</td>\n",
              "    </tr>\n",
              "    <tr>\n",
              "      <th>482739</th>\n",
              "      <td>1.0</td>\n",
              "      <td>2019-12-07 19:58:00</td>\n",
              "      <td>2019-12-07 20:17:30</td>\n",
              "      <td>1.0</td>\n",
              "      <td>1.40</td>\n",
              "      <td>1.0</td>\n",
              "      <td>N</td>\n",
              "      <td>246</td>\n",
              "      <td>164</td>\n",
              "      <td>1.0</td>\n",
              "      <td>12.5</td>\n",
              "      <td>2.5</td>\n",
              "      <td>0.5</td>\n",
              "      <td>3.15</td>\n",
              "      <td>0.0</td>\n",
              "      <td>0.3</td>\n",
              "      <td>18.95</td>\n",
              "      <td>2.5</td>\n",
              "    </tr>\n",
              "    <tr>\n",
              "      <th>482740</th>\n",
              "      <td>2.0</td>\n",
              "      <td>2019-12-14 12:27:36</td>\n",
              "      <td>2019-12-14 12:43:30</td>\n",
              "      <td>1.0</td>\n",
              "      <td>5.58</td>\n",
              "      <td>1.0</td>\n",
              "      <td>N</td>\n",
              "      <td>170</td>\n",
              "      <td>88</td>\n",
              "      <td>1.0</td>\n",
              "      <td>18.5</td>\n",
              "      <td>0.0</td>\n",
              "      <td>0.5</td>\n",
              "      <td>4.36</td>\n",
              "      <td>0.0</td>\n",
              "      <td>0.3</td>\n",
              "      <td>26.16</td>\n",
              "      <td>2.5</td>\n",
              "    </tr>\n",
              "    <tr>\n",
              "      <th>482741</th>\n",
              "      <td>1.0</td>\n",
              "      <td>2019-12-24 22:50:46</td>\n",
              "      <td>2019-12-24 22:55:28</td>\n",
              "      <td>2.0</td>\n",
              "      <td>0.70</td>\n",
              "      <td>1.0</td>\n",
              "      <td>N</td>\n",
              "      <td>239</td>\n",
              "      <td>43</td>\n",
              "      <td>1.0</td>\n",
              "      <td>5.0</td>\n",
              "      <td>3.0</td>\n",
              "      <td>0.5</td>\n",
              "      <td>1.00</td>\n",
              "      <td>0.0</td>\n",
              "      <td>0.3</td>\n",
              "      <td>9.80</td>\n",
              "      <td>2.5</td>\n",
              "    </tr>\n",
              "  </tbody>\n",
              "</table>\n",
              "<p>482742 rows × 18 columns</p>\n",
              "</div>"
            ],
            "text/plain": [
              "        VendorID tpep_pickup_datetime  ... total_amount  congestion_surcharge\n",
              "0            1.0  2019-12-21 07:55:21  ...         9.80                   2.5\n",
              "1            1.0  2019-12-08 13:20:45  ...        13.30                   2.5\n",
              "2            2.0  2019-12-28 14:41:40  ...        11.30                   2.5\n",
              "3            2.0  2019-12-05 23:42:35  ...        21.96                   2.5\n",
              "4            1.0  2019-12-13 12:30:25  ...        17.80                   2.5\n",
              "...          ...                  ...  ...          ...                   ...\n",
              "482737       1.0  2019-12-12 15:22:02  ...         5.75                   0.0\n",
              "482738       1.0  2019-12-28 18:36:46  ...        11.30                   2.5\n",
              "482739       1.0  2019-12-07 19:58:00  ...        18.95                   2.5\n",
              "482740       2.0  2019-12-14 12:27:36  ...        26.16                   2.5\n",
              "482741       1.0  2019-12-24 22:50:46  ...         9.80                   2.5\n",
              "\n",
              "[482742 rows x 18 columns]"
            ]
          },
          "metadata": {
            "tags": []
          },
          "execution_count": 1
        }
      ]
    },
    {
      "cell_type": "code",
      "metadata": {
        "colab": {
          "base_uri": "https://localhost:8080/"
        },
        "id": "xEkOuea0jAFg",
        "outputId": "0a755833-3f2d-4460-cd0f-d9a08786d6e7"
      },
      "source": [
        "df.isnull().sum()"
      ],
      "execution_count": null,
      "outputs": [
        {
          "output_type": "execute_result",
          "data": {
            "text/plain": [
              "VendorID                 3644\n",
              "tpep_pickup_datetime        0\n",
              "tpep_dropoff_datetime       0\n",
              "passenger_count          3644\n",
              "trip_distance               0\n",
              "RatecodeID               3644\n",
              "store_and_fwd_flag       3644\n",
              "PULocationID                0\n",
              "DOLocationID                0\n",
              "payment_type             3644\n",
              "fare_amount                 0\n",
              "extra                       0\n",
              "mta_tax                     0\n",
              "tip_amount                  0\n",
              "tolls_amount                0\n",
              "improvement_surcharge       0\n",
              "total_amount                0\n",
              "congestion_surcharge        0\n",
              "dtype: int64"
            ]
          },
          "metadata": {
            "tags": []
          },
          "execution_count": 2
        }
      ]
    },
    {
      "cell_type": "code",
      "metadata": {
        "id": "8IU0DfyTi7rk"
      },
      "source": [
        "df.dropna(inplace= True)"
      ],
      "execution_count": null,
      "outputs": []
    },
    {
      "cell_type": "code",
      "metadata": {
        "colab": {
          "base_uri": "https://localhost:8080/"
        },
        "id": "gIqtHRQajyyO",
        "outputId": "083ec74d-5721-43a0-9523-bf3c44b80041"
      },
      "source": [
        "df.isnull().sum()"
      ],
      "execution_count": null,
      "outputs": [
        {
          "output_type": "execute_result",
          "data": {
            "text/plain": [
              "VendorID                 0\n",
              "tpep_pickup_datetime     0\n",
              "tpep_dropoff_datetime    0\n",
              "passenger_count          0\n",
              "trip_distance            0\n",
              "RatecodeID               0\n",
              "store_and_fwd_flag       0\n",
              "PULocationID             0\n",
              "DOLocationID             0\n",
              "payment_type             0\n",
              "fare_amount              0\n",
              "extra                    0\n",
              "mta_tax                  0\n",
              "tip_amount               0\n",
              "tolls_amount             0\n",
              "improvement_surcharge    0\n",
              "total_amount             0\n",
              "congestion_surcharge     0\n",
              "dtype: int64"
            ]
          },
          "metadata": {
            "tags": []
          },
          "execution_count": 4
        }
      ]
    },
    {
      "cell_type": "markdown",
      "metadata": {
        "id": "5vgZDwSEIDjF"
      },
      "source": [
        "2. Find out some information about the data..."
      ]
    },
    {
      "cell_type": "code",
      "metadata": {
        "id": "LdR4alSHIEFd",
        "colab": {
          "base_uri": "https://localhost:8080/",
          "height": 317
        },
        "outputId": "7c49baa2-11fd-49a4-e143-a4241923202b"
      },
      "source": [
        "df.describe()"
      ],
      "execution_count": null,
      "outputs": [
        {
          "output_type": "execute_result",
          "data": {
            "text/html": [
              "<div>\n",
              "<style scoped>\n",
              "    .dataframe tbody tr th:only-of-type {\n",
              "        vertical-align: middle;\n",
              "    }\n",
              "\n",
              "    .dataframe tbody tr th {\n",
              "        vertical-align: top;\n",
              "    }\n",
              "\n",
              "    .dataframe thead th {\n",
              "        text-align: right;\n",
              "    }\n",
              "</style>\n",
              "<table border=\"1\" class=\"dataframe\">\n",
              "  <thead>\n",
              "    <tr style=\"text-align: right;\">\n",
              "      <th></th>\n",
              "      <th>VendorID</th>\n",
              "      <th>passenger_count</th>\n",
              "      <th>trip_distance</th>\n",
              "      <th>RatecodeID</th>\n",
              "      <th>PULocationID</th>\n",
              "      <th>DOLocationID</th>\n",
              "      <th>payment_type</th>\n",
              "      <th>fare_amount</th>\n",
              "      <th>extra</th>\n",
              "      <th>mta_tax</th>\n",
              "      <th>tip_amount</th>\n",
              "      <th>tolls_amount</th>\n",
              "      <th>improvement_surcharge</th>\n",
              "      <th>total_amount</th>\n",
              "      <th>congestion_surcharge</th>\n",
              "    </tr>\n",
              "  </thead>\n",
              "  <tbody>\n",
              "    <tr>\n",
              "      <th>count</th>\n",
              "      <td>479098.000000</td>\n",
              "      <td>479098.000000</td>\n",
              "      <td>479098.000000</td>\n",
              "      <td>479098.000000</td>\n",
              "      <td>479098.000000</td>\n",
              "      <td>479098.000000</td>\n",
              "      <td>479098.000000</td>\n",
              "      <td>479098.000000</td>\n",
              "      <td>479098.000000</td>\n",
              "      <td>479098.000000</td>\n",
              "      <td>479098.000000</td>\n",
              "      <td>479098.000000</td>\n",
              "      <td>479098.000000</td>\n",
              "      <td>479098.000000</td>\n",
              "      <td>479098.000000</td>\n",
              "    </tr>\n",
              "    <tr>\n",
              "      <th>mean</th>\n",
              "      <td>1.666173</td>\n",
              "      <td>1.550393</td>\n",
              "      <td>2.943216</td>\n",
              "      <td>1.065156</td>\n",
              "      <td>163.706513</td>\n",
              "      <td>161.952607</td>\n",
              "      <td>1.298091</td>\n",
              "      <td>14.215789</td>\n",
              "      <td>1.097324</td>\n",
              "      <td>0.493596</td>\n",
              "      <td>2.262038</td>\n",
              "      <td>0.379203</td>\n",
              "      <td>0.297997</td>\n",
              "      <td>20.276440</td>\n",
              "      <td>2.292249</td>\n",
              "    </tr>\n",
              "    <tr>\n",
              "      <th>std</th>\n",
              "      <td>0.471579</td>\n",
              "      <td>1.174092</td>\n",
              "      <td>3.885494</td>\n",
              "      <td>0.903839</td>\n",
              "      <td>66.065929</td>\n",
              "      <td>70.137809</td>\n",
              "      <td>0.487450</td>\n",
              "      <td>575.794642</td>\n",
              "      <td>1.263896</td>\n",
              "      <td>0.068135</td>\n",
              "      <td>2.856731</td>\n",
              "      <td>1.679648</td>\n",
              "      <td>0.033714</td>\n",
              "      <td>575.858332</td>\n",
              "      <td>0.711418</td>\n",
              "    </tr>\n",
              "    <tr>\n",
              "      <th>min</th>\n",
              "      <td>1.000000</td>\n",
              "      <td>0.000000</td>\n",
              "      <td>-6.200000</td>\n",
              "      <td>1.000000</td>\n",
              "      <td>1.000000</td>\n",
              "      <td>1.000000</td>\n",
              "      <td>1.000000</td>\n",
              "      <td>-180.000000</td>\n",
              "      <td>-4.500000</td>\n",
              "      <td>-0.500000</td>\n",
              "      <td>-98.760000</td>\n",
              "      <td>-21.230000</td>\n",
              "      <td>-0.300000</td>\n",
              "      <td>-180.300000</td>\n",
              "      <td>-2.500000</td>\n",
              "    </tr>\n",
              "    <tr>\n",
              "      <th>25%</th>\n",
              "      <td>1.000000</td>\n",
              "      <td>1.000000</td>\n",
              "      <td>0.950000</td>\n",
              "      <td>1.000000</td>\n",
              "      <td>125.000000</td>\n",
              "      <td>113.000000</td>\n",
              "      <td>1.000000</td>\n",
              "      <td>6.500000</td>\n",
              "      <td>0.000000</td>\n",
              "      <td>0.500000</td>\n",
              "      <td>0.000000</td>\n",
              "      <td>0.000000</td>\n",
              "      <td>0.300000</td>\n",
              "      <td>11.300000</td>\n",
              "      <td>2.500000</td>\n",
              "    </tr>\n",
              "    <tr>\n",
              "      <th>50%</th>\n",
              "      <td>2.000000</td>\n",
              "      <td>1.000000</td>\n",
              "      <td>1.600000</td>\n",
              "      <td>1.000000</td>\n",
              "      <td>162.000000</td>\n",
              "      <td>162.000000</td>\n",
              "      <td>1.000000</td>\n",
              "      <td>9.500000</td>\n",
              "      <td>0.500000</td>\n",
              "      <td>0.500000</td>\n",
              "      <td>1.950000</td>\n",
              "      <td>0.000000</td>\n",
              "      <td>0.300000</td>\n",
              "      <td>14.800000</td>\n",
              "      <td>2.500000</td>\n",
              "    </tr>\n",
              "    <tr>\n",
              "      <th>75%</th>\n",
              "      <td>2.000000</td>\n",
              "      <td>2.000000</td>\n",
              "      <td>3.000000</td>\n",
              "      <td>1.000000</td>\n",
              "      <td>233.000000</td>\n",
              "      <td>234.000000</td>\n",
              "      <td>2.000000</td>\n",
              "      <td>15.000000</td>\n",
              "      <td>2.500000</td>\n",
              "      <td>0.500000</td>\n",
              "      <td>3.000000</td>\n",
              "      <td>0.000000</td>\n",
              "      <td>0.300000</td>\n",
              "      <td>21.300000</td>\n",
              "      <td>2.500000</td>\n",
              "    </tr>\n",
              "    <tr>\n",
              "      <th>max</th>\n",
              "      <td>2.000000</td>\n",
              "      <td>9.000000</td>\n",
              "      <td>93.740000</td>\n",
              "      <td>99.000000</td>\n",
              "      <td>265.000000</td>\n",
              "      <td>265.000000</td>\n",
              "      <td>4.000000</td>\n",
              "      <td>398468.380000</td>\n",
              "      <td>90.060000</td>\n",
              "      <td>0.900000</td>\n",
              "      <td>225.000000</td>\n",
              "      <td>113.880000</td>\n",
              "      <td>0.300000</td>\n",
              "      <td>398471.200000</td>\n",
              "      <td>2.750000</td>\n",
              "    </tr>\n",
              "  </tbody>\n",
              "</table>\n",
              "</div>"
            ],
            "text/plain": [
              "            VendorID  passenger_count  ...   total_amount  congestion_surcharge\n",
              "count  479098.000000    479098.000000  ...  479098.000000         479098.000000\n",
              "mean        1.666173         1.550393  ...      20.276440              2.292249\n",
              "std         0.471579         1.174092  ...     575.858332              0.711418\n",
              "min         1.000000         0.000000  ...    -180.300000             -2.500000\n",
              "25%         1.000000         1.000000  ...      11.300000              2.500000\n",
              "50%         2.000000         1.000000  ...      14.800000              2.500000\n",
              "75%         2.000000         2.000000  ...      21.300000              2.500000\n",
              "max         2.000000         9.000000  ...  398471.200000              2.750000\n",
              "\n",
              "[8 rows x 15 columns]"
            ]
          },
          "metadata": {
            "tags": []
          },
          "execution_count": 5
        }
      ]
    },
    {
      "cell_type": "code",
      "metadata": {
        "id": "fADazPVWIFRu",
        "colab": {
          "base_uri": "https://localhost:8080/"
        },
        "outputId": "a3ca4aef-9ee0-494f-d300-60a5b1b2eff1"
      },
      "source": [
        "df.info()"
      ],
      "execution_count": null,
      "outputs": [
        {
          "output_type": "stream",
          "text": [
            "<class 'pandas.core.frame.DataFrame'>\n",
            "Int64Index: 479098 entries, 0 to 482741\n",
            "Data columns (total 18 columns):\n",
            " #   Column                 Non-Null Count   Dtype  \n",
            "---  ------                 --------------   -----  \n",
            " 0   VendorID               479098 non-null  float64\n",
            " 1   tpep_pickup_datetime   479098 non-null  object \n",
            " 2   tpep_dropoff_datetime  479098 non-null  object \n",
            " 3   passenger_count        479098 non-null  float64\n",
            " 4   trip_distance          479098 non-null  float64\n",
            " 5   RatecodeID             479098 non-null  float64\n",
            " 6   store_and_fwd_flag     479098 non-null  object \n",
            " 7   PULocationID           479098 non-null  int64  \n",
            " 8   DOLocationID           479098 non-null  int64  \n",
            " 9   payment_type           479098 non-null  float64\n",
            " 10  fare_amount            479098 non-null  float64\n",
            " 11  extra                  479098 non-null  float64\n",
            " 12  mta_tax                479098 non-null  float64\n",
            " 13  tip_amount             479098 non-null  float64\n",
            " 14  tolls_amount           479098 non-null  float64\n",
            " 15  improvement_surcharge  479098 non-null  float64\n",
            " 16  total_amount           479098 non-null  float64\n",
            " 17  congestion_surcharge   479098 non-null  float64\n",
            "dtypes: float64(13), int64(2), object(3)\n",
            "memory usage: 69.4+ MB\n"
          ],
          "name": "stdout"
        }
      ]
    },
    {
      "cell_type": "markdown",
      "metadata": {
        "id": "4FsmeuGnIOYd"
      },
      "source": [
        "3. Show me the relationships in your data... \r\n",
        "- corr ([help](https://stackoverflow.com/a/50703596/11074111))\r\n",
        "- pariplot\r\n",
        "- some other visualization(s) (of your choice)"
      ]
    },
    {
      "cell_type": "code",
      "metadata": {
        "colab": {
          "base_uri": "https://localhost:8080/",
          "height": 534
        },
        "id": "Zg3Yi2jfZa01",
        "outputId": "e9884509-bcf3-4224-b831-47d9478fbc87"
      },
      "source": [
        "df.corr()"
      ],
      "execution_count": null,
      "outputs": [
        {
          "output_type": "execute_result",
          "data": {
            "text/html": [
              "<div>\n",
              "<style scoped>\n",
              "    .dataframe tbody tr th:only-of-type {\n",
              "        vertical-align: middle;\n",
              "    }\n",
              "\n",
              "    .dataframe tbody tr th {\n",
              "        vertical-align: top;\n",
              "    }\n",
              "\n",
              "    .dataframe thead th {\n",
              "        text-align: right;\n",
              "    }\n",
              "</style>\n",
              "<table border=\"1\" class=\"dataframe\">\n",
              "  <thead>\n",
              "    <tr style=\"text-align: right;\">\n",
              "      <th></th>\n",
              "      <th>VendorID</th>\n",
              "      <th>passenger_count</th>\n",
              "      <th>trip_distance</th>\n",
              "      <th>RatecodeID</th>\n",
              "      <th>PULocationID</th>\n",
              "      <th>DOLocationID</th>\n",
              "      <th>payment_type</th>\n",
              "      <th>fare_amount</th>\n",
              "      <th>extra</th>\n",
              "      <th>mta_tax</th>\n",
              "      <th>tip_amount</th>\n",
              "      <th>tolls_amount</th>\n",
              "      <th>improvement_surcharge</th>\n",
              "      <th>total_amount</th>\n",
              "      <th>congestion_surcharge</th>\n",
              "    </tr>\n",
              "  </thead>\n",
              "  <tbody>\n",
              "    <tr>\n",
              "      <th>VendorID</th>\n",
              "      <td>1.000000</td>\n",
              "      <td>0.165798</td>\n",
              "      <td>0.025826</td>\n",
              "      <td>0.009225</td>\n",
              "      <td>-0.006963</td>\n",
              "      <td>-0.002515</td>\n",
              "      <td>-0.012707</td>\n",
              "      <td>-0.001725</td>\n",
              "      <td>-0.858735</td>\n",
              "      <td>-0.028355</td>\n",
              "      <td>0.021642</td>\n",
              "      <td>0.010144</td>\n",
              "      <td>-0.039408</td>\n",
              "      <td>-0.001597</td>\n",
              "      <td>-0.009748</td>\n",
              "    </tr>\n",
              "    <tr>\n",
              "      <th>passenger_count</th>\n",
              "      <td>0.165798</td>\n",
              "      <td>1.000000</td>\n",
              "      <td>0.019496</td>\n",
              "      <td>0.000271</td>\n",
              "      <td>-0.006724</td>\n",
              "      <td>-0.004947</td>\n",
              "      <td>0.016564</td>\n",
              "      <td>-0.000294</td>\n",
              "      <td>-0.135692</td>\n",
              "      <td>0.002063</td>\n",
              "      <td>0.000780</td>\n",
              "      <td>0.012475</td>\n",
              "      <td>0.003783</td>\n",
              "      <td>-0.000227</td>\n",
              "      <td>0.013716</td>\n",
              "    </tr>\n",
              "    <tr>\n",
              "      <th>trip_distance</th>\n",
              "      <td>0.025826</td>\n",
              "      <td>0.019496</td>\n",
              "      <td>1.000000</td>\n",
              "      <td>0.144107</td>\n",
              "      <td>-0.094075</td>\n",
              "      <td>-0.105838</td>\n",
              "      <td>-0.020566</td>\n",
              "      <td>0.017337</td>\n",
              "      <td>-0.010598</td>\n",
              "      <td>-0.069476</td>\n",
              "      <td>0.524413</td>\n",
              "      <td>0.619455</td>\n",
              "      <td>0.018216</td>\n",
              "      <td>0.021595</td>\n",
              "      <td>-0.193941</td>\n",
              "    </tr>\n",
              "    <tr>\n",
              "      <th>RatecodeID</th>\n",
              "      <td>0.009225</td>\n",
              "      <td>0.000271</td>\n",
              "      <td>0.144107</td>\n",
              "      <td>1.000000</td>\n",
              "      <td>-0.008881</td>\n",
              "      <td>0.002503</td>\n",
              "      <td>0.006139</td>\n",
              "      <td>0.004868</td>\n",
              "      <td>-0.022093</td>\n",
              "      <td>-0.181959</td>\n",
              "      <td>0.133305</td>\n",
              "      <td>0.155296</td>\n",
              "      <td>-0.039509</td>\n",
              "      <td>0.005854</td>\n",
              "      <td>-0.094704</td>\n",
              "    </tr>\n",
              "    <tr>\n",
              "      <th>PULocationID</th>\n",
              "      <td>-0.006963</td>\n",
              "      <td>-0.006724</td>\n",
              "      <td>-0.094075</td>\n",
              "      <td>-0.008881</td>\n",
              "      <td>1.000000</td>\n",
              "      <td>0.106491</td>\n",
              "      <td>-0.028173</td>\n",
              "      <td>-0.000130</td>\n",
              "      <td>0.020532</td>\n",
              "      <td>0.004405</td>\n",
              "      <td>-0.030446</td>\n",
              "      <td>-0.048641</td>\n",
              "      <td>0.002988</td>\n",
              "      <td>-0.000290</td>\n",
              "      <td>0.123645</td>\n",
              "    </tr>\n",
              "    <tr>\n",
              "      <th>DOLocationID</th>\n",
              "      <td>-0.002515</td>\n",
              "      <td>-0.004947</td>\n",
              "      <td>-0.105838</td>\n",
              "      <td>0.002503</td>\n",
              "      <td>0.106491</td>\n",
              "      <td>1.000000</td>\n",
              "      <td>-0.029818</td>\n",
              "      <td>-0.000288</td>\n",
              "      <td>0.019605</td>\n",
              "      <td>0.024005</td>\n",
              "      <td>-0.036972</td>\n",
              "      <td>-0.064938</td>\n",
              "      <td>0.000169</td>\n",
              "      <td>-0.000520</td>\n",
              "      <td>0.123966</td>\n",
              "    </tr>\n",
              "    <tr>\n",
              "      <th>payment_type</th>\n",
              "      <td>-0.012707</td>\n",
              "      <td>0.016564</td>\n",
              "      <td>-0.020566</td>\n",
              "      <td>0.006139</td>\n",
              "      <td>-0.028173</td>\n",
              "      <td>-0.029818</td>\n",
              "      <td>1.000000</td>\n",
              "      <td>0.006944</td>\n",
              "      <td>-0.021476</td>\n",
              "      <td>-0.178163</td>\n",
              "      <td>-0.484442</td>\n",
              "      <td>-0.033897</td>\n",
              "      <td>-0.221938</td>\n",
              "      <td>0.004156</td>\n",
              "      <td>-0.175131</td>\n",
              "    </tr>\n",
              "    <tr>\n",
              "      <th>fare_amount</th>\n",
              "      <td>-0.001725</td>\n",
              "      <td>-0.000294</td>\n",
              "      <td>0.017337</td>\n",
              "      <td>0.004868</td>\n",
              "      <td>-0.000130</td>\n",
              "      <td>-0.000288</td>\n",
              "      <td>0.006944</td>\n",
              "      <td>1.000000</td>\n",
              "      <td>0.001263</td>\n",
              "      <td>-0.005854</td>\n",
              "      <td>0.011026</td>\n",
              "      <td>0.012538</td>\n",
              "      <td>-0.010388</td>\n",
              "      <td>0.999976</td>\n",
              "      <td>-0.003728</td>\n",
              "    </tr>\n",
              "    <tr>\n",
              "      <th>extra</th>\n",
              "      <td>-0.858735</td>\n",
              "      <td>-0.135692</td>\n",
              "      <td>-0.010598</td>\n",
              "      <td>-0.022093</td>\n",
              "      <td>0.020532</td>\n",
              "      <td>0.019605</td>\n",
              "      <td>-0.021476</td>\n",
              "      <td>0.001263</td>\n",
              "      <td>1.000000</td>\n",
              "      <td>0.089757</td>\n",
              "      <td>0.011126</td>\n",
              "      <td>-0.006051</td>\n",
              "      <td>0.064162</td>\n",
              "      <td>0.001905</td>\n",
              "      <td>0.187133</td>\n",
              "    </tr>\n",
              "    <tr>\n",
              "      <th>mta_tax</th>\n",
              "      <td>-0.028355</td>\n",
              "      <td>0.002063</td>\n",
              "      <td>-0.069476</td>\n",
              "      <td>-0.181959</td>\n",
              "      <td>0.004405</td>\n",
              "      <td>0.024005</td>\n",
              "      <td>-0.178163</td>\n",
              "      <td>-0.005854</td>\n",
              "      <td>0.089757</td>\n",
              "      <td>1.000000</td>\n",
              "      <td>-0.076968</td>\n",
              "      <td>-0.168556</td>\n",
              "      <td>0.790194</td>\n",
              "      <td>-0.005996</td>\n",
              "      <td>0.398662</td>\n",
              "    </tr>\n",
              "    <tr>\n",
              "      <th>tip_amount</th>\n",
              "      <td>0.021642</td>\n",
              "      <td>0.000780</td>\n",
              "      <td>0.524413</td>\n",
              "      <td>0.133305</td>\n",
              "      <td>-0.030446</td>\n",
              "      <td>-0.036972</td>\n",
              "      <td>-0.484442</td>\n",
              "      <td>0.011026</td>\n",
              "      <td>0.011126</td>\n",
              "      <td>-0.076968</td>\n",
              "      <td>1.000000</td>\n",
              "      <td>0.443540</td>\n",
              "      <td>0.043562</td>\n",
              "      <td>0.017319</td>\n",
              "      <td>-0.027896</td>\n",
              "    </tr>\n",
              "    <tr>\n",
              "      <th>tolls_amount</th>\n",
              "      <td>0.010144</td>\n",
              "      <td>0.012475</td>\n",
              "      <td>0.619455</td>\n",
              "      <td>0.155296</td>\n",
              "      <td>-0.048641</td>\n",
              "      <td>-0.064938</td>\n",
              "      <td>-0.033897</td>\n",
              "      <td>0.012538</td>\n",
              "      <td>-0.006051</td>\n",
              "      <td>-0.168556</td>\n",
              "      <td>0.443540</td>\n",
              "      <td>1.000000</td>\n",
              "      <td>0.018112</td>\n",
              "      <td>0.017559</td>\n",
              "      <td>-0.110678</td>\n",
              "    </tr>\n",
              "    <tr>\n",
              "      <th>improvement_surcharge</th>\n",
              "      <td>-0.039408</td>\n",
              "      <td>0.003783</td>\n",
              "      <td>0.018216</td>\n",
              "      <td>-0.039509</td>\n",
              "      <td>0.002988</td>\n",
              "      <td>0.000169</td>\n",
              "      <td>-0.221938</td>\n",
              "      <td>-0.010388</td>\n",
              "      <td>0.064162</td>\n",
              "      <td>0.790194</td>\n",
              "      <td>0.043562</td>\n",
              "      <td>0.018112</td>\n",
              "      <td>1.000000</td>\n",
              "      <td>-0.009490</td>\n",
              "      <td>0.333668</td>\n",
              "    </tr>\n",
              "    <tr>\n",
              "      <th>total_amount</th>\n",
              "      <td>-0.001597</td>\n",
              "      <td>-0.000227</td>\n",
              "      <td>0.021595</td>\n",
              "      <td>0.005854</td>\n",
              "      <td>-0.000290</td>\n",
              "      <td>-0.000520</td>\n",
              "      <td>0.004156</td>\n",
              "      <td>0.999976</td>\n",
              "      <td>0.001905</td>\n",
              "      <td>-0.005996</td>\n",
              "      <td>0.017319</td>\n",
              "      <td>0.017559</td>\n",
              "      <td>-0.009490</td>\n",
              "      <td>1.000000</td>\n",
              "      <td>-0.002869</td>\n",
              "    </tr>\n",
              "    <tr>\n",
              "      <th>congestion_surcharge</th>\n",
              "      <td>-0.009748</td>\n",
              "      <td>0.013716</td>\n",
              "      <td>-0.193941</td>\n",
              "      <td>-0.094704</td>\n",
              "      <td>0.123645</td>\n",
              "      <td>0.123966</td>\n",
              "      <td>-0.175131</td>\n",
              "      <td>-0.003728</td>\n",
              "      <td>0.187133</td>\n",
              "      <td>0.398662</td>\n",
              "      <td>-0.027896</td>\n",
              "      <td>-0.110678</td>\n",
              "      <td>0.333668</td>\n",
              "      <td>-0.002869</td>\n",
              "      <td>1.000000</td>\n",
              "    </tr>\n",
              "  </tbody>\n",
              "</table>\n",
              "</div>"
            ],
            "text/plain": [
              "                       VendorID  ...  congestion_surcharge\n",
              "VendorID               1.000000  ...             -0.009748\n",
              "passenger_count        0.165798  ...              0.013716\n",
              "trip_distance          0.025826  ...             -0.193941\n",
              "RatecodeID             0.009225  ...             -0.094704\n",
              "PULocationID          -0.006963  ...              0.123645\n",
              "DOLocationID          -0.002515  ...              0.123966\n",
              "payment_type          -0.012707  ...             -0.175131\n",
              "fare_amount           -0.001725  ...             -0.003728\n",
              "extra                 -0.858735  ...              0.187133\n",
              "mta_tax               -0.028355  ...              0.398662\n",
              "tip_amount             0.021642  ...             -0.027896\n",
              "tolls_amount           0.010144  ...             -0.110678\n",
              "improvement_surcharge -0.039408  ...              0.333668\n",
              "total_amount          -0.001597  ...             -0.002869\n",
              "congestion_surcharge  -0.009748  ...              1.000000\n",
              "\n",
              "[15 rows x 15 columns]"
            ]
          },
          "metadata": {
            "tags": []
          },
          "execution_count": 7
        }
      ]
    },
    {
      "cell_type": "code",
      "metadata": {
        "id": "hoW-M_ObIiqn",
        "colab": {
          "base_uri": "https://localhost:8080/",
          "height": 670
        },
        "outputId": "5a70c5bd-872f-401f-9502-e7ab36e20252"
      },
      "source": [
        "plt.figure(figsize=(15,9)),\r\n",
        "\r\n",
        "sns.heatmap(df.corr(), annot=True, cmap='coolwarm', alpha= 0.8,linewidths=0.8, linecolor='black')"
      ],
      "execution_count": null,
      "outputs": [
        {
          "output_type": "execute_result",
          "data": {
            "text/plain": [
              "<matplotlib.axes._subplots.AxesSubplot at 0x7f2bde90a160>"
            ]
          },
          "metadata": {
            "tags": []
          },
          "execution_count": 8
        },
        {
          "output_type": "display_data",
          "data": {
            "image/png": "[encoded data removed]",
            "text/plain": [
              "<Figure size 1080x648 with 2 Axes>"
            ]
          },
          "metadata": {
            "tags": [],
            "needs_background": "light"
          }
        }
      ]
    },
    {
      "cell_type": "code",
      "metadata": {
        "id": "k8igHaRaIjMF"
      },
      "source": [
        "# create pairplot\r\n",
        "#sns.pairplot(data = df);"
      ],
      "execution_count": null,
      "outputs": []
    },
    {
      "cell_type": "markdown",
      "metadata": {
        "id": "9IhRygRcJBBy"
      },
      "source": [
        "4. Split your data into training and testing datasets..."
      ]
    },
    {
      "cell_type": "code",
      "metadata": {
        "id": "LAdc8dOSJEof"
      },
      "source": [
        "from sklearn.model_selection import train_test_split\r\n",
        "\r\n",
        "# focus single variable because we're doing simple linear regression\r\n",
        "X = df.trip_distance\r\n",
        "y = df.total_amount\r\n",
        "\r\n",
        "# split data\r\n",
        "X_train, X_test, y_train, y_test = train_test_split(X, y, train_size=0.75, random_state=2)"
      ],
      "execution_count": null,
      "outputs": []
    },
    {
      "cell_type": "markdown",
      "metadata": {
        "id": "vAEzLu-7ItC5"
      },
      "source": [
        "5. Import, create, and fit a LinearRegression model with 1 variable"
      ]
    },
    {
      "cell_type": "code",
      "metadata": {
        "id": "6f7YxILIcLJ2"
      },
      "source": [
        "from sklearn.linear_model import LinearRegression\r\n",
        "lr = LinearRegression()"
      ],
      "execution_count": null,
      "outputs": []
    },
    {
      "cell_type": "code",
      "metadata": {
        "id": "34aVrxcNIv4d",
        "colab": {
          "base_uri": "https://localhost:8080/"
        },
        "outputId": "d94abf02-9d7b-4ac8-ba29-adec40e87a5f"
      },
      "source": [
        "lr.fit(pd.DataFrame(X_train), y_train)\r\n"
      ],
      "execution_count": null,
      "outputs": [
        {
          "output_type": "execute_result",
          "data": {
            "text/plain": [
              "LinearRegression(copy_X=True, fit_intercept=True, n_jobs=None, normalize=False)"
            ]
          },
          "metadata": {
            "tags": []
          },
          "execution_count": 12
        }
      ]
    },
    {
      "cell_type": "code",
      "metadata": {
        "id": "vwu1bH1_JK6V",
        "colab": {
          "base_uri": "https://localhost:8080/"
        },
        "outputId": "29515756-fd95-4267-c6f6-6a78f3eb17cb"
      },
      "source": [
        "lr.intercept_\r\n"
      ],
      "execution_count": null,
      "outputs": [
        {
          "output_type": "execute_result",
          "data": {
            "text/plain": [
              "11.298856913125189"
            ]
          },
          "metadata": {
            "tags": []
          },
          "execution_count": 13
        }
      ]
    },
    {
      "cell_type": "code",
      "metadata": {
        "colab": {
          "base_uri": "https://localhost:8080/"
        },
        "id": "WLmJxQFFcU3A",
        "outputId": "6a36cdc3-3c83-422c-ec55-7a7551aa148e"
      },
      "source": [
        "lr.coef_\r\n"
      ],
      "execution_count": null,
      "outputs": [
        {
          "output_type": "execute_result",
          "data": {
            "text/plain": [
              "array([3.14091519])"
            ]
          },
          "metadata": {
            "tags": []
          },
          "execution_count": 14
        }
      ]
    },
    {
      "cell_type": "markdown",
      "metadata": {
        "id": "C4jtgDpVIysR"
      },
      "source": [
        "6. Make predictions on your `X_test` values..."
      ]
    },
    {
      "cell_type": "code",
      "metadata": {
        "id": "6n7j9lyYJQhj"
      },
      "source": [
        "predictions = lr.predict(pd.DataFrame(X_test))\r\n"
      ],
      "execution_count": null,
      "outputs": []
    },
    {
      "cell_type": "code",
      "metadata": {
        "id": "Yt0ohN6bJR9s",
        "colab": {
          "base_uri": "https://localhost:8080/"
        },
        "outputId": "a23d76eb-43ed-491e-8a9a-328f296ae143"
      },
      "source": [
        "# what do they look like? (show me some of the predictions)\r\n",
        "predictions"
      ],
      "execution_count": null,
      "outputs": [
        {
          "output_type": "execute_result",
          "data": {
            "text/plain": [
              "array([30.01871147, 12.55522299, 44.59255797, ..., 14.50259041,\n",
              "       66.57896432, 18.71141677])"
            ]
          },
          "metadata": {
            "tags": []
          },
          "execution_count": 16
        }
      ]
    },
    {
      "cell_type": "markdown",
      "metadata": {
        "id": "0MH2sdLGJYGo"
      },
      "source": [
        "7. Score your model...\r\n",
        "- r2_score\r\n",
        "- other metric (of your choice...)"
      ]
    },
    {
      "cell_type": "code",
      "metadata": {
        "id": "qzEn_dRzJW7z",
        "colab": {
          "base_uri": "https://localhost:8080/"
        },
        "outputId": "8029d87d-1783-4768-b7af-4424740a6219"
      },
      "source": [
        "from sklearn.metrics import r2_score\r\n",
        "\r\n",
        "r2_score(y_true=y_test, y_pred=predictions)"
      ],
      "execution_count": null,
      "outputs": [
        {
          "output_type": "execute_result",
          "data": {
            "text/plain": [
              "0.7221955740593509"
            ]
          },
          "metadata": {
            "tags": []
          },
          "execution_count": 17
        }
      ]
    },
    {
      "cell_type": "code",
      "metadata": {
        "id": "eTgWdLT1JgFj",
        "colab": {
          "base_uri": "https://localhost:8080/"
        },
        "outputId": "b1664de8-f8b7-4e44-b0d7-69eb9e6688e3"
      },
      "source": [
        "from sklearn.metrics import mean_absolute_error\r\n",
        "\r\n",
        "mean_absolute_error(y_true=y_test, y_pred=predictions)"
      ],
      "execution_count": null,
      "outputs": [
        {
          "output_type": "execute_result",
          "data": {
            "text/plain": [
              "4.16065659533046"
            ]
          },
          "metadata": {
            "tags": []
          },
          "execution_count": 18
        }
      ]
    },
    {
      "cell_type": "code",
      "metadata": {
        "colab": {
          "base_uri": "https://localhost:8080/"
        },
        "id": "SKtAo1o8dKDH",
        "outputId": "993cc471-edc7-4a13-a9e1-cffd0c452cef"
      },
      "source": [
        "y_test.mean()"
      ],
      "execution_count": null,
      "outputs": [
        {
          "output_type": "execute_result",
          "data": {
            "text/plain": [
              "19.473391609272227"
            ]
          },
          "metadata": {
            "tags": []
          },
          "execution_count": 19
        }
      ]
    },
    {
      "cell_type": "code",
      "metadata": {
        "colab": {
          "base_uri": "https://localhost:8080/"
        },
        "id": "iw5WYq_TdJ3Z",
        "outputId": "223e1596-dbcc-4eab-c3e9-dd520c1993ff"
      },
      "source": [
        "y_test.std()"
      ],
      "execution_count": null,
      "outputs": [
        {
          "output_type": "execute_result",
          "data": {
            "text/plain": [
              "15.380032415081416"
            ]
          },
          "metadata": {
            "tags": []
          },
          "execution_count": 20
        }
      ]
    },
    {
      "cell_type": "code",
      "metadata": {
        "colab": {
          "base_uri": "https://localhost:8080/",
          "height": 282
        },
        "id": "oDIcjkIfdSen",
        "outputId": "34aed890-0411-400f-ea1b-474d66c55d28"
      },
      "source": [
        "import matplotlib.pyplot as plt\r\n",
        "\r\n",
        "plt.scatter(y_test, predictions)"
      ],
      "execution_count": null,
      "outputs": [
        {
          "output_type": "execute_result",
          "data": {
            "text/plain": [
              "<matplotlib.collections.PathCollection at 0x7f2bcdba6978>"
            ]
          },
          "metadata": {
            "tags": []
          },
          "execution_count": 21
        },
        {
          "output_type": "display_data",
          "data": {
            "image/png": "[encoded data removed]",
            "text/plain": [
              "<Figure size 432x288 with 1 Axes>"
            ]
          },
          "metadata": {
            "tags": [],
            "needs_background": "light"
          }
        }
      ]
    },
    {
      "cell_type": "markdown",
      "metadata": {
        "id": "KDpe83ogJgg3"
      },
      "source": [
        "8. Create, and fit a LinearRegression model with **more than** 1 variable"
      ]
    },
    {
      "cell_type": "code",
      "metadata": {
        "colab": {
          "base_uri": "https://localhost:8080/"
        },
        "id": "nk2lI9JSe8Kn",
        "outputId": "a49ddf29-8266-4b27-ec36-9c35ccddd55d"
      },
      "source": [
        "df.columns"
      ],
      "execution_count": null,
      "outputs": [
        {
          "output_type": "execute_result",
          "data": {
            "text/plain": [
              "Index(['VendorID', 'tpep_pickup_datetime', 'tpep_dropoff_datetime',\n",
              "       'passenger_count', 'trip_distance', 'RatecodeID', 'store_and_fwd_flag',\n",
              "       'PULocationID', 'DOLocationID', 'payment_type', 'fare_amount', 'extra',\n",
              "       'mta_tax', 'tip_amount', 'tolls_amount', 'improvement_surcharge',\n",
              "       'total_amount', 'congestion_surcharge'],\n",
              "      dtype='object')"
            ]
          },
          "metadata": {
            "tags": []
          },
          "execution_count": 22
        }
      ]
    },
    {
      "cell_type": "code",
      "metadata": {
        "id": "ihXsRPtTJp7m"
      },
      "source": [
        "vars = [\r\n",
        "        'fare_amount', 'mta_tax', 'trip_distance', 'improvement_surcharge',  # high +- corr\r\n",
        "        'passenger_count', 'congestion_surcharge',  # make sense in my head\r\n",
        "        'tolls_amount'  # similar corr to total_amount\r\n",
        "        ]\r\n",
        "\r\n",
        "X = df[vars]\r\n",
        "y = df.total_amount\r\n",
        "\r\n",
        "X_train, X_test, y_train, y_test = train_test_split(X, y, train_size=0.75, random_state=2)"
      ],
      "execution_count": null,
      "outputs": []
    },
    {
      "cell_type": "code",
      "metadata": {
        "id": "7q6mkOr6JsAk"
      },
      "source": [
        "from sklearn.linear_model import LinearRegression\r\n",
        "\r\n",
        "lr = LinearRegression()\r\n"
      ],
      "execution_count": null,
      "outputs": []
    },
    {
      "cell_type": "code",
      "metadata": {
        "colab": {
          "base_uri": "https://localhost:8080/"
        },
        "id": "OrPFr1GhinXT",
        "outputId": "e574ed6e-d641-4896-eaf6-e91e739df698"
      },
      "source": [
        "lr.fit(X_train, y_train)\r\n"
      ],
      "execution_count": null,
      "outputs": [
        {
          "output_type": "execute_result",
          "data": {
            "text/plain": [
              "LinearRegression(copy_X=True, fit_intercept=True, n_jobs=None, normalize=False)"
            ]
          },
          "metadata": {
            "tags": []
          },
          "execution_count": 25
        }
      ]
    },
    {
      "cell_type": "markdown",
      "metadata": {
        "id": "SJCKwpNXJutC"
      },
      "source": [
        "9. Make predictions on your `X_test` values..."
      ]
    },
    {
      "cell_type": "code",
      "metadata": {
        "id": "IdGtbPJJJvjd",
        "colab": {
          "base_uri": "https://localhost:8080/"
        },
        "outputId": "76495260-da79-41e0-c850-fa129e1784bf"
      },
      "source": [
        "lr.intercept_\r\n"
      ],
      "execution_count": null,
      "outputs": [
        {
          "output_type": "execute_result",
          "data": {
            "text/plain": [
              "0.4120877322465226"
            ]
          },
          "metadata": {
            "tags": []
          },
          "execution_count": 27
        }
      ]
    },
    {
      "cell_type": "code",
      "metadata": {
        "colab": {
          "base_uri": "https://localhost:8080/"
        },
        "id": "Dcys68HQkTqR",
        "outputId": "5132fe1a-92ba-4a53-ab05-4c9ea0830fae"
      },
      "source": [
        "lr.coef_\r\n"
      ],
      "execution_count": null,
      "outputs": [
        {
          "output_type": "execute_result",
          "data": {
            "text/plain": [
              "array([ 1.00000811, -4.66827576,  0.32787211, 11.26327142, -0.02349401,\n",
              "        1.38645275,  1.28682812])"
            ]
          },
          "metadata": {
            "tags": []
          },
          "execution_count": 28
        }
      ]
    },
    {
      "cell_type": "code",
      "metadata": {
        "colab": {
          "base_uri": "https://localhost:8080/"
        },
        "id": "Gv9sqr1ZkikK",
        "outputId": "d4649dfe-a737-42b3-9cb2-99809ff84268"
      },
      "source": [
        "predictions = lr.predict(X_test)\r\n",
        "predictions"
      ],
      "execution_count": null,
      "outputs": [
        {
          "output_type": "execute_result",
          "data": {
            "text/plain": [
              "array([31.75991368, 11.00727265, 39.37526496, ..., 10.73404331,\n",
              "       57.70439603, 16.67343655])"
            ]
          },
          "metadata": {
            "tags": []
          },
          "execution_count": 33
        }
      ]
    },
    {
      "cell_type": "code",
      "metadata": {
        "id": "V8fRIPrqJzF5",
        "colab": {
          "base_uri": "https://localhost:8080/"
        },
        "outputId": "265a8bd0-7570-4645-e686-0dcd33aed192"
      },
      "source": [
        "# what do they look like? (show me some of the predictions)\r\n",
        "predictions[-5:]\r\n"
      ],
      "execution_count": null,
      "outputs": [
        {
          "output_type": "execute_result",
          "data": {
            "text/plain": [
              "array([ 5.08100811, 11.69470677, 10.73404331, 57.70439603, 16.67343655])"
            ]
          },
          "metadata": {
            "tags": []
          },
          "execution_count": 32
        }
      ]
    },
    {
      "cell_type": "code",
      "metadata": {
        "colab": {
          "base_uri": "https://localhost:8080/",
          "height": 282
        },
        "id": "uHbYGvjsl9Uk",
        "outputId": "6225115b-a8f0-4fdc-851a-dc3d9de1a3aa"
      },
      "source": [
        "import matplotlib.pyplot as plt\r\n",
        "\r\n",
        "plt.scatter(y_test, predictions)"
      ],
      "execution_count": null,
      "outputs": [
        {
          "output_type": "execute_result",
          "data": {
            "text/plain": [
              "<matplotlib.collections.PathCollection at 0x7f2bcd9bc2b0>"
            ]
          },
          "metadata": {
            "tags": []
          },
          "execution_count": 38
        },
        {
          "output_type": "display_data",
          "data": {
            "image/png": "[encoded data removed]",
            "text/plain": [
              "<Figure size 432x288 with 1 Axes>"
            ]
          },
          "metadata": {
            "tags": [],
            "needs_background": "light"
          }
        }
      ]
    },
    {
      "cell_type": "markdown",
      "metadata": {
        "id": "8rdbAft1JzZR"
      },
      "source": [
        "10. Score your model...\r\n",
        "- r2_score\r\n",
        "- other metric (of your choice...)"
      ]
    },
    {
      "cell_type": "code",
      "metadata": {
        "id": "uQn0WPxbJ1wi",
        "colab": {
          "base_uri": "https://localhost:8080/"
        },
        "outputId": "63a21627-3709-44a2-f038-311059d1b2a5"
      },
      "source": [
        "from sklearn.metrics import r2_score\r\n",
        "\r\n",
        "r2_score(y_true=y_test, y_pred=predictions)"
      ],
      "execution_count": null,
      "outputs": [
        {
          "output_type": "execute_result",
          "data": {
            "text/plain": [
              "0.9753768943190224"
            ]
          },
          "metadata": {
            "tags": []
          },
          "execution_count": 34
        }
      ]
    },
    {
      "cell_type": "code",
      "metadata": {
        "id": "wGAaIzfaJ16p",
        "colab": {
          "base_uri": "https://localhost:8080/"
        },
        "outputId": "07f3960d-97c2-460e-ae89-f77412acb56c"
      },
      "source": [
        "from sklearn.metrics import mean_absolute_error\r\n",
        "\r\n",
        "mean_absolute_error(y_true=y_test, y_pred=predictions)"
      ],
      "execution_count": null,
      "outputs": [
        {
          "output_type": "execute_result",
          "data": {
            "text/plain": [
              "1.5838309425460608"
            ]
          },
          "metadata": {
            "tags": []
          },
          "execution_count": 35
        }
      ]
    },
    {
      "cell_type": "code",
      "metadata": {
        "colab": {
          "base_uri": "https://localhost:8080/"
        },
        "id": "HG6zDhYblVM7",
        "outputId": "0022f063-552c-410b-d4a3-0b6757d2116c"
      },
      "source": [
        "y_test.mean()"
      ],
      "execution_count": null,
      "outputs": [
        {
          "output_type": "execute_result",
          "data": {
            "text/plain": [
              "19.473391609272227"
            ]
          },
          "metadata": {
            "tags": []
          },
          "execution_count": 37
        }
      ]
    },
    {
      "cell_type": "code",
      "metadata": {
        "colab": {
          "base_uri": "https://localhost:8080/"
        },
        "id": "aIClDEZKlVFU",
        "outputId": "f0f12a59-d27a-45d4-9a8c-14ab1b68e2b5"
      },
      "source": [
        "y_test.std()"
      ],
      "execution_count": null,
      "outputs": [
        {
          "output_type": "execute_result",
          "data": {
            "text/plain": [
              "15.380032415081416"
            ]
          },
          "metadata": {
            "tags": []
          },
          "execution_count": 36
        }
      ]
    },
    {
      "cell_type": "markdown",
      "metadata": {
        "id": "mdnhA-_aJ2QG"
      },
      "source": [
        "11. Which model is better? Why?"
      ]
    },
    {
      "cell_type": "markdown",
      "metadata": {
        "id": "385yTrGvKJ2I"
      },
      "source": [
        "**LinearRegression model with more than 1 variable is better than one variable**\r\n",
        "\r\n",
        "**As we apply more right features, our predictions will be more accurate** "
      ]
    },
    {
      "cell_type": "markdown",
      "metadata": {
        "id": "YXq7N9wPKISw"
      },
      "source": [
        "12. Perform GridSearchCV with the better data"
      ]
    },
    {
      "cell_type": "code",
      "metadata": {
        "id": "JQI1-xzHKZ5t"
      },
      "source": [
        "\r\n",
        "from sklearn.model_selection import GridSearchCV\r\n",
        "\r\n",
        "p_grid = {'fit_intercept': [True, False],\r\n",
        "          'normalize': [True, False]}\r\n",
        "\r\n",
        "grid = GridSearchCV(lr, p_grid)"
      ],
      "execution_count": null,
      "outputs": []
    },
    {
      "cell_type": "code",
      "metadata": {
        "id": "ZuD63G_ARo0U",
        "colab": {
          "base_uri": "https://localhost:8080/"
        },
        "outputId": "d4408032-8e14-4ae4-b12f-6b3202384e1d"
      },
      "source": [
        "grid.fit(X_train, y_train)"
      ],
      "execution_count": null,
      "outputs": [
        {
          "output_type": "execute_result",
          "data": {
            "text/plain": [
              "GridSearchCV(cv=None, error_score=nan,\n",
              "             estimator=LinearRegression(copy_X=True, fit_intercept=True,\n",
              "                                        n_jobs=None, normalize=False),\n",
              "             iid='deprecated', n_jobs=None,\n",
              "             param_grid={'fit_intercept': [True, False],\n",
              "                         'normalize': [True, False]},\n",
              "             pre_dispatch='2*n_jobs', refit=True, return_train_score=False,\n",
              "             scoring=None, verbose=0)"
            ]
          },
          "metadata": {
            "tags": []
          },
          "execution_count": 40
        }
      ]
    },
    {
      "cell_type": "code",
      "metadata": {
        "id": "rkVFXnrORpMN",
        "colab": {
          "base_uri": "https://localhost:8080/"
        },
        "outputId": "99472de8-edc6-41d1-954a-0daf1751971d"
      },
      "source": [
        "grid.best_params_"
      ],
      "execution_count": null,
      "outputs": [
        {
          "output_type": "execute_result",
          "data": {
            "text/plain": [
              "{'fit_intercept': False, 'normalize': True}"
            ]
          },
          "metadata": {
            "tags": []
          },
          "execution_count": 41
        }
      ]
    },
    {
      "cell_type": "markdown",
      "metadata": {
        "id": "OkFfmndgKagk"
      },
      "source": [
        "13. Update the hyperparameters of your model (create and fit a new model with the results of GridSerachCV)"
      ]
    },
    {
      "cell_type": "code",
      "metadata": {
        "id": "tMbtfYrsKg7u"
      },
      "source": [
        "lr = LinearRegression(fit_intercept=False,\r\n",
        "                      normalize=True)"
      ],
      "execution_count": null,
      "outputs": []
    },
    {
      "cell_type": "code",
      "metadata": {
        "id": "ZuYB-9_qKh2o",
        "colab": {
          "base_uri": "https://localhost:8080/"
        },
        "outputId": "407221b3-bf36-4a6f-b583-4da039cef2bc"
      },
      "source": [
        "lr.fit(X_train, y_train)\r\n"
      ],
      "execution_count": null,
      "outputs": [
        {
          "output_type": "execute_result",
          "data": {
            "text/plain": [
              "LinearRegression(copy_X=True, fit_intercept=False, n_jobs=None, normalize=True)"
            ]
          },
          "metadata": {
            "tags": []
          },
          "execution_count": 48
        }
      ]
    },
    {
      "cell_type": "code",
      "metadata": {
        "colab": {
          "base_uri": "https://localhost:8080/"
        },
        "id": "Ud1dszrpm9U0",
        "outputId": "1ad406d3-a03b-46b6-dc8c-84fa7af660c5"
      },
      "source": [
        "preds = lr.predict(X_test)\r\n",
        "preds"
      ],
      "execution_count": null,
      "outputs": [
        {
          "output_type": "execute_result",
          "data": {
            "text/plain": [
              "array([31.7813641 , 11.00533476, 39.38003928, ..., 10.72728586,\n",
              "       57.71110555, 16.66829389])"
            ]
          },
          "metadata": {
            "tags": []
          },
          "execution_count": 53
        }
      ]
    },
    {
      "cell_type": "markdown",
      "metadata": {
        "id": "RTih62jiKhHd"
      },
      "source": [
        "14. Score the new model... \r\n",
        "- r2_score\r\n",
        "- some other metric of your choice"
      ]
    },
    {
      "cell_type": "code",
      "metadata": {
        "id": "bHglwkVGKkW7",
        "colab": {
          "base_uri": "https://localhost:8080/"
        },
        "outputId": "dabe68b7-c3c1-4329-8f72-b8553241d309"
      },
      "source": [
        "r2_score(y_true=y_test, y_pred=preds)\r\n"
      ],
      "execution_count": null,
      "outputs": [
        {
          "output_type": "execute_result",
          "data": {
            "text/plain": [
              "0.9753642582910845"
            ]
          },
          "metadata": {
            "tags": []
          },
          "execution_count": 51
        }
      ]
    },
    {
      "cell_type": "code",
      "metadata": {
        "id": "AgsbHIhqKoQr",
        "colab": {
          "base_uri": "https://localhost:8080/"
        },
        "outputId": "e2fa6328-f861-46f4-87cb-9307e6a84414"
      },
      "source": [
        "mean_absolute_error(y_true=y_test, y_pred=preds)"
      ],
      "execution_count": null,
      "outputs": [
        {
          "output_type": "execute_result",
          "data": {
            "text/plain": [
              "1.5847153150912776"
            ]
          },
          "metadata": {
            "tags": []
          },
          "execution_count": 52
        }
      ]
    },
    {
      "cell_type": "markdown",
      "metadata": {
        "id": "c3uY8_MnKpXQ"
      },
      "source": [
        "Did the score change at all? Why?"
      ]
    },
    {
      "cell_type": "markdown",
      "metadata": {
        "id": "8xeiVnQSKtYa"
      },
      "source": [
        "Our score is the same,\r\n",
        "The GridSearchCV is to show us if our preidctions are rights or not. So, as the scores matched, it mean that our predictions where right.\r\n",
        "\r\n"
      ]
    }
  ]
}